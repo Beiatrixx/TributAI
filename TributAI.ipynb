{
  "nbformat": 4,
  "nbformat_minor": 0,
  "metadata": {
    "colab": {
      "provenance": []
    },
    "kernelspec": {
      "name": "python3",
      "display_name": "Python 3"
    },
    "language_info": {
      "name": "python"
    }
  },
  "cells": [
    {
      "cell_type": "code",
      "execution_count": 1,
      "metadata": {
        "id": "b5uAg-tYx8b_"
      },
      "outputs": [],
      "source": [
        "!pip install -q google-genai"
      ]
    },
    {
      "cell_type": "code",
      "source": [
        "import os\n",
        "from google.colab import userdata\n",
        "\n",
        "os.environ[\"GOOGLE_API_KEY\"] = userdata.get('GOOGLE_API_KEY')"
      ],
      "metadata": {
        "id": "9K2epOYLyU0m"
      },
      "execution_count": 2,
      "outputs": []
    },
    {
      "cell_type": "code",
      "source": [
        "from google import genai\n",
        "\n",
        "client = genai.Client()\n",
        "\n",
        "modelo = \"gemini-2.0-flash\""
      ],
      "metadata": {
        "id": "b9ntxFf3yjuE"
      },
      "execution_count": 3,
      "outputs": []
    },
    {
      "cell_type": "code",
      "source": [
        "!pip install -q google-adk"
      ],
      "metadata": {
        "colab": {
          "base_uri": "https://localhost:8080/"
        },
        "id": "YiA_Yf2FyshU",
        "outputId": "d18fb290-12e0-49c6-9f09-905fd7393946"
      },
      "execution_count": 4,
      "outputs": [
        {
          "output_type": "stream",
          "name": "stdout",
          "text": [
            "\u001b[?25l   \u001b[90m━━━━━━━━━━━━━━━━━━━━━━━━━━━━━━━━━━━━━━━━\u001b[0m \u001b[32m0.0/1.2 MB\u001b[0m \u001b[31m?\u001b[0m eta \u001b[36m-:--:--\u001b[0m\r\u001b[2K   \u001b[91m━━━━━━━━━━━━━━━━\u001b[0m\u001b[90m╺\u001b[0m\u001b[90m━━━━━━━━━━━━━━━━━━━━━━━\u001b[0m \u001b[32m0.5/1.2 MB\u001b[0m \u001b[31m14.7 MB/s\u001b[0m eta \u001b[36m0:00:01\u001b[0m\r\u001b[2K   \u001b[90m━━━━━━━━━━━━━━━━━━━━━━━━━━━━━━━━━━━━━━━━\u001b[0m \u001b[32m1.2/1.2 MB\u001b[0m \u001b[31m18.6 MB/s\u001b[0m eta \u001b[36m0:00:00\u001b[0m\n",
            "\u001b[2K   \u001b[90m━━━━━━━━━━━━━━━━━━━━━━━━━━━━━━━━━━━━━━━━\u001b[0m \u001b[32m232.1/232.1 kB\u001b[0m \u001b[31m15.6 MB/s\u001b[0m eta \u001b[36m0:00:00\u001b[0m\n",
            "\u001b[2K   \u001b[90m━━━━━━━━━━━━━━━━━━━━━━━━━━━━━━━━━━━━━━━━\u001b[0m \u001b[32m95.2/95.2 kB\u001b[0m \u001b[31m6.4 MB/s\u001b[0m eta \u001b[36m0:00:00\u001b[0m\n",
            "\u001b[2K   \u001b[90m━━━━━━━━━━━━━━━━━━━━━━━━━━━━━━━━━━━━━━━━\u001b[0m \u001b[32m217.1/217.1 kB\u001b[0m \u001b[31m14.4 MB/s\u001b[0m eta \u001b[36m0:00:00\u001b[0m\n",
            "\u001b[2K   \u001b[90m━━━━━━━━━━━━━━━━━━━━━━━━━━━━━━━━━━━━━━━━\u001b[0m \u001b[32m334.1/334.1 kB\u001b[0m \u001b[31m19.5 MB/s\u001b[0m eta \u001b[36m0:00:00\u001b[0m\n",
            "\u001b[2K   \u001b[90m━━━━━━━━━━━━━━━━━━━━━━━━━━━━━━━━━━━━━━━━\u001b[0m \u001b[32m125.1/125.1 kB\u001b[0m \u001b[31m7.4 MB/s\u001b[0m eta \u001b[36m0:00:00\u001b[0m\n",
            "\u001b[2K   \u001b[90m━━━━━━━━━━━━━━━━━━━━━━━━━━━━━━━━━━━━━━━━\u001b[0m \u001b[32m65.8/65.8 kB\u001b[0m \u001b[31m4.6 MB/s\u001b[0m eta \u001b[36m0:00:00\u001b[0m\n",
            "\u001b[2K   \u001b[90m━━━━━━━━━━━━━━━━━━━━━━━━━━━━━━━━━━━━━━━━\u001b[0m \u001b[32m119.0/119.0 kB\u001b[0m \u001b[31m8.1 MB/s\u001b[0m eta \u001b[36m0:00:00\u001b[0m\n",
            "\u001b[2K   \u001b[90m━━━━━━━━━━━━━━━━━━━━━━━━━━━━━━━━━━━━━━━━\u001b[0m \u001b[32m194.9/194.9 kB\u001b[0m \u001b[31m11.6 MB/s\u001b[0m eta \u001b[36m0:00:00\u001b[0m\n",
            "\u001b[2K   \u001b[90m━━━━━━━━━━━━━━━━━━━━━━━━━━━━━━━━━━━━━━━━\u001b[0m \u001b[32m62.5/62.5 kB\u001b[0m \u001b[31m4.0 MB/s\u001b[0m eta \u001b[36m0:00:00\u001b[0m\n",
            "\u001b[2K   \u001b[90m━━━━━━━━━━━━━━━━━━━━━━━━━━━━━━━━━━━━━━━━\u001b[0m \u001b[32m103.3/103.3 kB\u001b[0m \u001b[31m7.3 MB/s\u001b[0m eta \u001b[36m0:00:00\u001b[0m\n",
            "\u001b[2K   \u001b[90m━━━━━━━━━━━━━━━━━━━━━━━━━━━━━━━━━━━━━━━━\u001b[0m \u001b[32m44.4/44.4 kB\u001b[0m \u001b[31m2.8 MB/s\u001b[0m eta \u001b[36m0:00:00\u001b[0m\n",
            "\u001b[2K   \u001b[90m━━━━━━━━━━━━━━━━━━━━━━━━━━━━━━━━━━━━━━━━\u001b[0m \u001b[32m72.0/72.0 kB\u001b[0m \u001b[31m4.4 MB/s\u001b[0m eta \u001b[36m0:00:00\u001b[0m\n",
            "\u001b[?25h"
          ]
        }
      ]
    },
    {
      "cell_type": "code",
      "source": [
        "from google.adk.agents import Agent\n",
        "from google.adk.runners import Runner\n",
        "from google.adk.sessions import InMemorySessionService\n",
        "from google.adk.tools import google_search\n",
        "from google.genai import types\n",
        "from datetime import date\n",
        "import textwrap\n",
        "from IPython.display import display, Markdown\n",
        "import requests\n",
        "import warnings\n",
        "\n",
        "warnings.filterwarnings(\"ignore\")"
      ],
      "metadata": {
        "id": "0wia9oVSy2fU"
      },
      "execution_count": 5,
      "outputs": []
    },
    {
      "cell_type": "code",
      "source": [
        "def call_agent(agent: Agent, message_text: str) -> str:\n",
        "\n",
        "    session_service = InMemorySessionService()\n",
        "\n",
        "    session = session_service.create_session(app_name=agent.name, user_id=\"user1\", session_id=\"session1\")\n",
        "\n",
        "    runner = Runner(agent=agent, app_name=agent.name, session_service=session_service)\n",
        "\n",
        "    content = types.Content(role=\"user\", parts=[types.Part(text=message_text)])\n",
        "\n",
        "    final_response = \"\"\n",
        "\n",
        "    for event in runner.run(user_id=\"user1\", session_id=\"session1\", new_message=content):\n",
        "        if event.is_final_response():\n",
        "          for part in event.content.parts:\n",
        "            if part.text is not None:\n",
        "              final_response += part.text\n",
        "              final_response += \"\\n\"\n",
        "    return final_response"
      ],
      "metadata": {
        "id": "_ZpHsCoFzAhs"
      },
      "execution_count": 6,
      "outputs": []
    },
    {
      "cell_type": "code",
      "source": [
        "def to_markdown(text):\n",
        "  text = text.replace('•', '  *')\n",
        "  return Markdown(textwrap.indent(text, '> ', predicate=lambda _: True))"
      ],
      "metadata": {
        "id": "rhhqH_xK0hPV"
      },
      "execution_count": 7,
      "outputs": []
    },
    {
      "cell_type": "code",
      "source": [
        "def agente_consultor_legislativo(atividade, tipo_de_tributacao, estado):\n",
        "\n",
        "  consultor = Agent(\n",
        "      name=\"agente_consultor_legislativo\",\n",
        "      model=\"gemini-2.0-flash\",\n",
        "      instruction=\"\"\"\n",
        "      Você é um especialista em legislação tributária brasileira.\n",
        "      Sua função é buscar atualizações recentes sobre a reforma tributária, especialmente a Emenda Constitucional 132/2023, e apresentar\n",
        "      resumos objetivos e técnicos sobre as alterações legais relacionadas ao ramo de atividade, tipo de tributação e Estado do usuário.\n",
        "      Utilize linguagem clara, técnica e focada em profissionais da área contábil e\n",
        "      fiscal e empresários. Evite opiniões pessoais. Sempre cite a fonte e a data da última atualização.\n",
        "\n",
        "\n",
        "      \"\"\",\n",
        "      description=\"Agente que consulta a legislação vigente sobre a Reforma Tributária.\",\n",
        "      tools=[google_search]\n",
        "  )\n",
        "\n",
        "  entrada_do_agente_consultor_legislativo = f\"Atividade Principal da Empresa: {atividade}\\n Tipo de Tributação: {tipo_de_tributacao}\\n Região: {estado}\"\n",
        "\n",
        "  atualizacoes = call_agent(consultor, entrada_do_agente_consultor_legislativo)\n",
        "\n",
        "  return atualizacoes"
      ],
      "metadata": {
        "id": "et2lzkRs0kLM"
      },
      "execution_count": 8,
      "outputs": []
    },
    {
      "cell_type": "code",
      "source": [
        "def agente_analisador_tributario(atividade, tipo_de_tributacao, estado, atualizacoes):\n",
        "\n",
        "  analisador = Agent(\n",
        "      name=\"agente_analisador_tributario\",\n",
        "      model=\"gemini-2.0-flash\",\n",
        "      instruction=\"\"\"\n",
        "      Você é um analista tributário com profundo conhecimento da legislação brasileira (EC 132/2023) e da reforma tributária.\n",
        "      Sua função é interpretar o conteúdo legal e identificar como as mudanças afetam setores econômicos,\n",
        "      tipos de tributação (MEI, Simples, Lucro Real, Presumido) e diferentes regiões. Com base nas atualizações encontradas pelo\n",
        "      agente consultor legislativo, você irá analisar o caso específico do usuário, que irá informar seu setor econômico, tipo de empresa e região.\n",
        "      Use comparações antes/depois e destaque os pontos mais relevantes de forma analítica em um breve relatório de análise.\n",
        "      Seja claro, preciso e evite linguagem excessivamente técnica.\n",
        "      \"\"\",\n",
        "      description=\"Agente que analisa os impactos da reforma tributária.\",\n",
        "  )\n",
        "\n",
        "  entrada_do_agente_analisador_tributario = f\"Atividade Principal da Empresa: {atividade}\\n Tipo de Tributação: {tipo_de_tributacao}\\n Região: {estado}\\n Análise: {atualizacoes}\"\n",
        "\n",
        "  analise = call_agent(analisador, entrada_do_agente_analisador_tributario)\n",
        "\n",
        "  return analise"
      ],
      "metadata": {
        "id": "XFOQZV3S2vYl"
      },
      "execution_count": 9,
      "outputs": []
    },
    {
      "cell_type": "code",
      "source": [
        "def agente_contador(atividade, tipo_de_tributacao, estado, analise):\n",
        "\n",
        "  contador = Agent(\n",
        "      name=\"agente_contador\",\n",
        "      model=\"gemini-2.0-flash\",\n",
        "      instruction=\"\"\"\n",
        "      Você é um contador experiente, especializado na reforma tributária. Com base na análise de caso gerada\n",
        "      pelo agente analisador tributário, elabore um planejamento contábil completo, focado nas informações\n",
        "      fornecidas pelo usuário (setor econômico, tipo de empresa e região). O plano contábil deve seguir as\n",
        "      normas vigentes propostas pelo Conselho Federal de Contabilidade e Normas Brasileiras de Contabilidade.\n",
        "      \"\"\",\n",
        "      description=\"Agente que traça um plano contábil para o usuário.\"\n",
        "  )\n",
        "\n",
        "  entrada_do_agente_contador = f\"Atividade Principal da Empresa: {atividade}\\n Tipo de Tributação: {tipo_de_tributacao}\\n Região: {estado}\\n Análise: {analise}\"\n",
        "\n",
        "  plano_contabil = call_agent(contador, entrada_do_agente_contador)\n",
        "\n",
        "  return plano_contabil"
      ],
      "metadata": {
        "id": "mMPugZHSaB-g"
      },
      "execution_count": 10,
      "outputs": []
    },
    {
      "cell_type": "code",
      "source": [
        "print(\" Bem vindo(a) ao TributAI, seu assistente contábil virtual.\\n \")\n",
        "\n",
        "\n",
        "atividade = input(\"Por favor, digite o RAMO DE ATIVIDADE da sua empresa:\")\n",
        "tipo_de_tributacao = input(\"❓ Por favor, digite o TIPO DE TRIBUTAÇÃO atual da sua empresa: \")\n",
        "estado = input(\"❓ Por favor, digite a REGIÃO que você se encontra: \")\n",
        "\n",
        "\n",
        "if not atividade or not tipo_de_tributacao or not estado:\n",
        "  print(\"Você esqueceu de digitar alguma informação!\\n\")\n",
        "\n",
        "else:\n",
        "    print(f\"Maravilha! Vamos então iniciar a análise!.\\n\")\n",
        "\n",
        "    atualizacoes = agente_consultor_legislativo(atividade, tipo_de_tributacao, estado)\n",
        "    print(\"\\n📝 Resultado da Consulta à Legislação:\\n\")\n",
        "    display(to_markdown(atualizacoes))\n",
        "    print(\"-\" * 120)\n",
        "\n",
        "    analise = agente_analisador_tributario(atividade, tipo_de_tributacao, estado, atualizacoes)\n",
        "    print(\"\\n📝 Resultado da Análise Tributária:\\n\")\n",
        "    display(to_markdown(analise))\n",
        "    print(\"-\" * 120)\n",
        "\n",
        "    plano_contabil = agente_contador(atividade, tipo_de_tributacao, estado, analise)\n",
        "    print(\"\\n📝 Aqui está seu Planejamento Contábil completo!\\n\")\n",
        "    display(to_markdown(plano_contabil))\n",
        "    print(\"-\" * 120)\n"
      ],
      "metadata": {
        "colab": {
          "base_uri": "https://localhost:8080/",
          "height": 391
        },
        "id": "pwYqQ7EEckqn",
        "outputId": "3fd2a320-f995-4540-9344-3cdfe2d8df75"
      },
      "execution_count": 11,
      "outputs": [
        {
          "output_type": "stream",
          "name": "stdout",
          "text": [
            " Bem vindo(a) ao TributAI, seu assistente contábil virtual.\n",
            " \n"
          ]
        },
        {
          "output_type": "error",
          "ename": "KeyboardInterrupt",
          "evalue": "Interrupted by user",
          "traceback": [
            "\u001b[0;31m---------------------------------------------------------------------------\u001b[0m",
            "\u001b[0;31mKeyboardInterrupt\u001b[0m                         Traceback (most recent call last)",
            "\u001b[0;32m<ipython-input-11-8a7c3dac837f>\u001b[0m in \u001b[0;36m<cell line: 0>\u001b[0;34m()\u001b[0m\n\u001b[1;32m      2\u001b[0m \u001b[0;34m\u001b[0m\u001b[0m\n\u001b[1;32m      3\u001b[0m \u001b[0;34m\u001b[0m\u001b[0m\n\u001b[0;32m----> 4\u001b[0;31m \u001b[0matividade\u001b[0m \u001b[0;34m=\u001b[0m \u001b[0minput\u001b[0m\u001b[0;34m(\u001b[0m\u001b[0;34m\"Por favor, digite o RAMO DE ATIVIDADE da sua empresa:\"\u001b[0m\u001b[0;34m)\u001b[0m\u001b[0;34m\u001b[0m\u001b[0;34m\u001b[0m\u001b[0m\n\u001b[0m\u001b[1;32m      5\u001b[0m \u001b[0mtipo_de_tributacao\u001b[0m \u001b[0;34m=\u001b[0m \u001b[0minput\u001b[0m\u001b[0;34m(\u001b[0m\u001b[0;34m\"❓ Por favor, digite o TIPO DE TRIBUTAÇÃO atual da sua empresa: \"\u001b[0m\u001b[0;34m)\u001b[0m\u001b[0;34m\u001b[0m\u001b[0;34m\u001b[0m\u001b[0m\n\u001b[1;32m      6\u001b[0m \u001b[0mestado\u001b[0m \u001b[0;34m=\u001b[0m \u001b[0minput\u001b[0m\u001b[0;34m(\u001b[0m\u001b[0;34m\"❓ Por favor, digite a REGIÃO que você se encontra: \"\u001b[0m\u001b[0;34m)\u001b[0m\u001b[0;34m\u001b[0m\u001b[0;34m\u001b[0m\u001b[0m\n",
            "\u001b[0;32m/usr/local/lib/python3.11/dist-packages/ipykernel/kernelbase.py\u001b[0m in \u001b[0;36mraw_input\u001b[0;34m(self, prompt)\u001b[0m\n\u001b[1;32m   1175\u001b[0m                 \u001b[0;34m\"raw_input was called, but this frontend does not support input requests.\"\u001b[0m\u001b[0;34m\u001b[0m\u001b[0;34m\u001b[0m\u001b[0m\n\u001b[1;32m   1176\u001b[0m             )\n\u001b[0;32m-> 1177\u001b[0;31m         return self._input_request(\n\u001b[0m\u001b[1;32m   1178\u001b[0m             \u001b[0mstr\u001b[0m\u001b[0;34m(\u001b[0m\u001b[0mprompt\u001b[0m\u001b[0;34m)\u001b[0m\u001b[0;34m,\u001b[0m\u001b[0;34m\u001b[0m\u001b[0;34m\u001b[0m\u001b[0m\n\u001b[1;32m   1179\u001b[0m             \u001b[0mself\u001b[0m\u001b[0;34m.\u001b[0m\u001b[0m_parent_ident\u001b[0m\u001b[0;34m[\u001b[0m\u001b[0;34m\"shell\"\u001b[0m\u001b[0;34m]\u001b[0m\u001b[0;34m,\u001b[0m\u001b[0;34m\u001b[0m\u001b[0;34m\u001b[0m\u001b[0m\n",
            "\u001b[0;32m/usr/local/lib/python3.11/dist-packages/ipykernel/kernelbase.py\u001b[0m in \u001b[0;36m_input_request\u001b[0;34m(self, prompt, ident, parent, password)\u001b[0m\n\u001b[1;32m   1217\u001b[0m             \u001b[0;32mexcept\u001b[0m \u001b[0mKeyboardInterrupt\u001b[0m\u001b[0;34m:\u001b[0m\u001b[0;34m\u001b[0m\u001b[0;34m\u001b[0m\u001b[0m\n\u001b[1;32m   1218\u001b[0m                 \u001b[0;31m# re-raise KeyboardInterrupt, to truncate traceback\u001b[0m\u001b[0;34m\u001b[0m\u001b[0;34m\u001b[0m\u001b[0m\n\u001b[0;32m-> 1219\u001b[0;31m                 \u001b[0;32mraise\u001b[0m \u001b[0mKeyboardInterrupt\u001b[0m\u001b[0;34m(\u001b[0m\u001b[0;34m\"Interrupted by user\"\u001b[0m\u001b[0;34m)\u001b[0m \u001b[0;32mfrom\u001b[0m \u001b[0;32mNone\u001b[0m\u001b[0;34m\u001b[0m\u001b[0;34m\u001b[0m\u001b[0m\n\u001b[0m\u001b[1;32m   1220\u001b[0m             \u001b[0;32mexcept\u001b[0m \u001b[0mException\u001b[0m\u001b[0;34m:\u001b[0m\u001b[0;34m\u001b[0m\u001b[0;34m\u001b[0m\u001b[0m\n\u001b[1;32m   1221\u001b[0m                 \u001b[0mself\u001b[0m\u001b[0;34m.\u001b[0m\u001b[0mlog\u001b[0m\u001b[0;34m.\u001b[0m\u001b[0mwarning\u001b[0m\u001b[0;34m(\u001b[0m\u001b[0;34m\"Invalid Message:\"\u001b[0m\u001b[0;34m,\u001b[0m \u001b[0mexc_info\u001b[0m\u001b[0;34m=\u001b[0m\u001b[0;32mTrue\u001b[0m\u001b[0;34m)\u001b[0m\u001b[0;34m\u001b[0m\u001b[0;34m\u001b[0m\u001b[0m\n",
            "\u001b[0;31mKeyboardInterrupt\u001b[0m: Interrupted by user"
          ]
        }
      ]
    },
    {
      "cell_type": "code",
      "source": [
        "!pip install -q gradio"
      ],
      "metadata": {
        "colab": {
          "base_uri": "https://localhost:8080/"
        },
        "id": "2unKntUglFbQ",
        "outputId": "a62d573e-cdf8-4597-a0cd-a6c3b36db41d"
      },
      "execution_count": 12,
      "outputs": [
        {
          "output_type": "stream",
          "name": "stdout",
          "text": [
            "\u001b[2K   \u001b[90m━━━━━━━━━━━━━━━━━━━━━━━━━━━━━━━━━━━━━━━━\u001b[0m \u001b[32m54.1/54.1 MB\u001b[0m \u001b[31m15.3 MB/s\u001b[0m eta \u001b[36m0:00:00\u001b[0m\n",
            "\u001b[2K   \u001b[90m━━━━━━━━━━━━━━━━━━━━━━━━━━━━━━━━━━━━━━━━\u001b[0m \u001b[32m323.1/323.1 kB\u001b[0m \u001b[31m21.7 MB/s\u001b[0m eta \u001b[36m0:00:00\u001b[0m\n",
            "\u001b[2K   \u001b[90m━━━━━━━━━━━━━━━━━━━━━━━━━━━━━━━━━━━━━━━━\u001b[0m \u001b[32m11.6/11.6 MB\u001b[0m \u001b[31m114.0 MB/s\u001b[0m eta \u001b[36m0:00:00\u001b[0m\n",
            "\u001b[?25h"
          ]
        }
      ]
    },
    {
      "cell_type": "code",
      "source": [
        "import gradio as gr"
      ],
      "metadata": {
        "id": "QbYwhz3EzQtk"
      },
      "execution_count": 15,
      "outputs": []
    },
    {
      "cell_type": "code",
      "source": [
        "def interface_tributai(atividade, tipo_de_tributacao, estado):\n",
        "    try:\n",
        "        atualizacoes = agente_consultor_legislativo(atividade, tipo_de_tributacao, estado)\n",
        "        analise = agente_analisador_tributario(atividade, tipo_de_tributacao, estado, atualizacoes)\n",
        "        plano = agente_contador(atividade, tipo_de_tributacao, estado, analise)\n",
        "\n",
        "        return (\n",
        "            f\"🧾 **Atualizações Legislativas:**\\n\\n{atualizacoes}\\n\\n\"\n",
        "            f\"📊 **Análise Tributária:**\\n\\n{analise}\\n\\n\"\n",
        "            f\"📋 **Plano Contábil Sugerido:**\\n\\n{plano}\"\n",
        "        )\n",
        "    except Exception as e:\n",
        "        return f\"❌ Ocorreu um erro: {str(e)}\"\n",
        "\n",
        "\n",
        "custom_theme = gr.themes.Base().set(\n",
        "    body_background_fill=\"#f9f9f9\",      # fundo da página\n",
        "    body_text_color=\"#333333\",           # cor do texto\n",
        "    block_background_fill=\"#f0f4f8\",     # fundo dos componentes\n",
        "    block_border_color=\"#e0e0e0\",        # bordas suaves\n",
        ")\n",
        "\n",
        "\n",
        "interface = gr.Interface(\n",
        "    fn=interface_tributai,\n",
        "    inputs=[\n",
        "        gr.Textbox(label=\"🧾 Atividade Principal da Empresa\"),\n",
        "        gr.Textbox(label=\"💼 Tipo de Tributação (MEI, Simples Nacional, Lucro Real, Lucro Presumido)\"),\n",
        "        gr.Textbox(label=\"🌎 Estado ou Região\")\n",
        "    ],\n",
        "    outputs=gr.Markdown(label=\"📄 Resultado da Análise\"),\n",
        "    title=\"TributAI - Assistente Contábil especializado na Reforma Tributária\",\n",
        "    description=\"Informe os dados da sua empresa para receber uma análise completa e atualizada da reforma tributária (EC 132/2023).\",\n",
        "    theme=custom_theme\n",
        ")\n",
        "\n",
        "\n",
        "interface.launch()"
      ],
      "metadata": {
        "colab": {
          "base_uri": "https://localhost:8080/",
          "height": 626
        },
        "id": "QJuYQVTKrYK3",
        "outputId": "cedbb807-87b3-45ac-b704-1866f6fcc4ec"
      },
      "execution_count": 18,
      "outputs": [
        {
          "output_type": "stream",
          "name": "stdout",
          "text": [
            "It looks like you are running Gradio on a hosted a Jupyter notebook. For the Gradio app to work, sharing must be enabled. Automatically setting `share=True` (you can turn this off by setting `share=False` in `launch()` explicitly).\n",
            "\n",
            "Colab notebook detected. To show errors in colab notebook, set debug=True in launch()\n",
            "* Running on public URL: https://a1b0ba80a92104ba4a.gradio.live\n",
            "\n",
            "This share link expires in 1 week. For free permanent hosting and GPU upgrades, run `gradio deploy` from the terminal in the working directory to deploy to Hugging Face Spaces (https://huggingface.co/spaces)\n"
          ]
        },
        {
          "output_type": "display_data",
          "data": {
            "text/plain": [
              "<IPython.core.display.HTML object>"
            ],
            "text/html": [
              "<div><iframe src=\"https://a1b0ba80a92104ba4a.gradio.live\" width=\"100%\" height=\"500\" allow=\"autoplay; camera; microphone; clipboard-read; clipboard-write;\" frameborder=\"0\" allowfullscreen></iframe></div>"
            ]
          },
          "metadata": {}
        },
        {
          "output_type": "execute_result",
          "data": {
            "text/plain": []
          },
          "metadata": {},
          "execution_count": 18
        }
      ]
    }
  ]
}